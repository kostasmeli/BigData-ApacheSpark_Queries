{
 "cells": [
  {
   "cell_type": "code",
   "execution_count": null,
   "id": "5ff8b313",
   "metadata": {},
   "outputs": [],
   "source": [
    "       #.config(\"spark.driver.memory\", \"4g\")\\\n",
    "       #.config(\"spark.driver.cores\", \"1\")\\\n",
    "        #.config(\"spark.executor.cores\",\"1\")\\\n",
    "        #.config(\"spark.executor.memory\",\"500M\")\\\n",
    "        #.master(\"spark://192.168.240.1:7077\")\\\n",
    "from pyspark.sql import SparkSession\n",
    "from sparkmeasure import StageMetrics\n",
    "spark=(SparkSession \n",
    "        .builder \n",
    "        .master(\"spark://ubuntu:7077\")\n",
    "        .appName(\"Jumanji Query\")\n",
    "        .getOrCreate())"
   ]
  },
  {
   "cell_type": "code",
   "execution_count": null,
   "id": "616db3ed",
   "metadata": {},
   "outputs": [],
   "source": [
    "stagemetrics = StageMetrics(spark)"
   ]
  },
  {
   "cell_type": "code",
   "execution_count": null,
   "id": "65d76a5e",
   "metadata": {},
   "outputs": [],
   "source": [
    "stagemetrics.begin()\n",
    "Ratings_Dataframe=(spark.read.format(\"csv\")\n",
    "            .option(\"header\",\"True\")\n",
    "            .option(\"inferSchema\",\"True\")\n",
    "            .load(\"/home/meli/Documents/Kaggle/rating.csv\")\n",
    "      )\n",
    "Movies_Dataframe=(spark.read.format(\"csv\")\n",
    "            .option(\"header\",\"True\")\n",
    "            .option(\"inferSchema\",\"True\")\n",
    "            .load(\"/home/meli/Documents/Kaggle/movie.csv\")\n",
    "      )\n",
    "rmdf=Ratings_Dataframe.join(Movies_Dataframe,['movieId'])\n",
    "#Number of people who rated Jumanji\n",
    "rmdf.where(rmdf.title=='Jumanji (1995)').count()"
   ]
  },
  {
   "cell_type": "code",
   "execution_count": null,
   "id": "9b561dd1",
   "metadata": {},
   "outputs": [],
   "source": [
    "stagemetrics.end()"
   ]
  },
  {
   "cell_type": "code",
   "execution_count": null,
   "id": "f93cbf5b",
   "metadata": {},
   "outputs": [],
   "source": [
    "stagemetrics.print_report()"
   ]
  },
  {
   "cell_type": "code",
   "execution_count": null,
   "id": "4e16df85",
   "metadata": {},
   "outputs": [],
   "source": []
  }
 ],
 "metadata": {
  "kernelspec": {
   "display_name": "Python 3",
   "language": "python",
   "name": "python3"
  },
  "language_info": {
   "codemirror_mode": {
    "name": "ipython",
    "version": 3
   },
   "file_extension": ".py",
   "mimetype": "text/x-python",
   "name": "python",
   "nbconvert_exporter": "python",
   "pygments_lexer": "ipython3",
   "version": "3.8.5"
  }
 },
 "nbformat": 4,
 "nbformat_minor": 5
}
