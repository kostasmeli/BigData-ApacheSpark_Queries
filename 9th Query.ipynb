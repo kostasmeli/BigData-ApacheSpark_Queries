{
 "cells": [
  {
   "cell_type": "code",
   "execution_count": 1,
   "id": "885041b3",
   "metadata": {},
   "outputs": [],
   "source": [
    "\n",
    "from pyspark.sql import SparkSession\n",
    "from pyspark.sql.functions import *\n",
    "from pyspark.sql.window import Window\n",
    "from sparkmeasure import StageMetrics\n",
    "spark=SparkSession \\\n",
    "        .builder \\\n",
    "        .master(\"spark://ubuntu:7077\")\\\n",
    "        .appName(\"How many users watched the same movie the same timestamp\")\\\n",
    "        .getOrCreate()\n",
    "spark.conf.set(\"spark.sql.repl.eagerEval.enabled\", True)"
   ]
  },
  {
   "cell_type": "code",
   "execution_count": 2,
   "id": "b82a4d20",
   "metadata": {},
   "outputs": [],
   "source": [
    "stagemetrics = StageMetrics(spark)"
   ]
  },
  {
   "cell_type": "code",
   "execution_count": 3,
   "id": "4b9309e3",
   "metadata": {},
   "outputs": [
    {
     "name": "stdout",
     "output_type": "stream",
     "text": [
      "+------------------+\n",
      "|sum(NumberOfUsers)|\n",
      "+------------------+\n",
      "|          18433506|\n",
      "+------------------+\n",
      "\n"
     ]
    }
   ],
   "source": [
    "stagemetrics.begin()\n",
    "Ratings_Dataframe=(spark.read.format(\"csv\")\n",
    "            .option(\"header\",\"True\")\n",
    "            .option(\"inferSchema\",\"True\")\n",
    "            .load(\"/home/meli/Documents/Kaggle/rating.csv\")\n",
    "      )\n",
    "Ratings_Dataframe=(Ratings_Dataframe.withColumn(\"day\",date_format('timestamp','dd'))\n",
    "                                    .withColumn(\"hour\",hour(\"timestamp\"))\n",
    "                  )\n",
    "rdf=Ratings_Dataframe.groupBy(\"movieId\",\"day\",'hour').agg(count(\"userId\").alias('NumberOfUsers'))\n",
    "rdf.filter(\"NumberOfUsers>1\").select(sum(\"NumberOfUsers\")).show()\n",
    "stagemetrics.end()"
   ]
  },
  {
   "cell_type": "code",
   "execution_count": 4,
   "id": "2e33efa7",
   "metadata": {},
   "outputs": [
    {
     "name": "stdout",
     "output_type": "stream",
     "text": [
      "\n",
      "Scheduling mode = FIFO\n",
      "Spark Context default degree of parallelism = 4\n",
      "Aggregated Spark stage metrics:\n",
      "numStages => 5\n",
      "numTasks => 214\n",
      "elapsedTime => 90831 (1.5 min)\n",
      "stageDuration => 89482 (1.5 min)\n",
      "executorRunTime => 293454 (4.9 min)\n",
      "executorCpuTime => 106653 (1.8 min)\n",
      "executorDeserializeTime => 10870 (11 s)\n",
      "executorDeserializeCpuTime => 2630 (3 s)\n",
      "resultSerializationTime => 100 (0.1 s)\n",
      "jvmGCTime => 5404 (5 s)\n",
      "shuffleFetchWaitTime => 82 (82 ms)\n",
      "shuffleWriteTime => 2497 (2 s)\n",
      "resultSize => 839197 (819.0 KB)\n",
      "diskBytesSpilled => 0 (0 Bytes)\n",
      "memoryBytesSpilled => 0 (0 Bytes)\n",
      "peakExecutionMemory => 1887436800\n",
      "recordsRead => 40000528\n",
      "bytesRead => 1381427650 (1317.0 MB)\n",
      "recordsWritten => 0\n",
      "bytesWritten => 0 (0 Bytes)\n",
      "shuffleRecordsRead => 9087140\n",
      "shuffleTotalBlocksFetched => 1400\n",
      "shuffleLocalBlocksFetched => 1400\n",
      "shuffleRemoteBlocksFetched => 0\n",
      "shuffleTotalBytesRead => 145062144 (138.0 MB)\n",
      "shuffleLocalBytesRead => 145062144 (138.0 MB)\n",
      "shuffleRemoteBytesRead => 0 (0 Bytes)\n",
      "shuffleRemoteBytesReadToDisk => 0 (0 Bytes)\n",
      "shuffleBytesWritten => 145062144 (138.0 MB)\n",
      "shuffleRecordsWritten => 9087140\n"
     ]
    }
   ],
   "source": [
    "stagemetrics.print_report()"
   ]
  },
  {
   "cell_type": "code",
   "execution_count": null,
   "id": "2f55b3c2",
   "metadata": {},
   "outputs": [],
   "source": []
  }
 ],
 "metadata": {
  "kernelspec": {
   "display_name": "Python 3",
   "language": "python",
   "name": "python3"
  },
  "language_info": {
   "codemirror_mode": {
    "name": "ipython",
    "version": 3
   },
   "file_extension": ".py",
   "mimetype": "text/x-python",
   "name": "python",
   "nbconvert_exporter": "python",
   "pygments_lexer": "ipython3",
   "version": "3.8.5"
  }
 },
 "nbformat": 4,
 "nbformat_minor": 5
}
