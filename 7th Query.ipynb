{
 "cells": [
  {
   "cell_type": "code",
   "execution_count": 1,
   "id": "6661eded",
   "metadata": {},
   "outputs": [],
   "source": [
    "from pyspark.sql import SparkSession\n",
    "from pyspark.sql.functions import *\n",
    "from pyspark.sql.window import Window\n",
    "from sparkmeasure import StageMetrics\n",
    "spark=SparkSession \\\n",
    "        .builder \\\n",
    "        .master(\"spark://ubuntu:7077\")\\\n",
    "        .appName(\"Top 10 users with most ratings every year\")\\\n",
    "        .getOrCreate()\n",
    "spark.conf.set(\"spark.sql.repl.eagerEval.enabled\", True)"
   ]
  },
  {
   "cell_type": "code",
   "execution_count": 2,
   "id": "707947f1",
   "metadata": {},
   "outputs": [],
   "source": [
    "stagemetrics = StageMetrics(spark)"
   ]
  },
  {
   "cell_type": "code",
   "execution_count": 3,
   "id": "24959273",
   "metadata": {},
   "outputs": [
    {
     "name": "stdout",
     "output_type": "stream",
     "text": [
      "+------+---------+---------------+\n",
      "|userId|timestamp|NumberOfRatings|\n",
      "+------+---------+---------------+\n",
      "|131160|     1995|              3|\n",
      "| 28507|     1995|              1|\n",
      "+------+---------+---------------+\n",
      "\n"
     ]
    }
   ],
   "source": [
    "stagemetrics.begin()\n",
    "Ratings_Dataframe=(spark.read.format(\"csv\")\n",
    "            .option(\"header\",\"True\")\n",
    "            .option(\"inferSchema\",\"True\")\n",
    "            .load(\"/home/meli/Documents/Kaggle/rating.csv\")\n",
    "      )\n",
    "Ratings_Dataframe=Ratings_Dataframe.withColumn(\"timestamp\",date_format(\"timestamp\",\"yyy\"))\n",
    "\n",
    "df1=(Ratings_Dataframe.groupBy(\"userId\",\"timestamp\").count()\n",
    "     .withColumnRenamed('count', 'NumberOfRatings')\n",
    "    )\n",
    "\n",
    "windowDept = Window.partitionBy(\"timestamp\").orderBy(col(\"NumberOfRatings\").desc())\n",
    "\n",
    "FullQuery=(df1.withColumn(\"row\",row_number().over(windowDept))\n",
    "           .filter(col(\"row\") <= 10)\n",
    "           .drop(\"row\")\n",
    "           .sort([\"timestamp\",\"NumberOfRatings\"],ascending=[0,0])\n",
    "          )\n",
    "\n",
    "FullQuery.where(\"timestamp==1995\").show()\n",
    "stagemetrics.end()"
   ]
  },
  {
   "cell_type": "code",
   "execution_count": 4,
   "id": "30b36a11",
   "metadata": {},
   "outputs": [
    {
     "name": "stdout",
     "output_type": "stream",
     "text": [
      "\n",
      "Scheduling mode = FIFO\n",
      "Spark Context default degree of parallelism = 4\n",
      "Aggregated Spark stage metrics:\n",
      "numStages => 5\n",
      "numTasks => 413\n",
      "elapsedTime => 67428 (1.1 min)\n",
      "stageDuration => 65427 (1.1 min)\n",
      "executorRunTime => 195210 (3.3 min)\n",
      "executorCpuTime => 82397 (1.4 min)\n",
      "executorDeserializeTime => 14700 (15 s)\n",
      "executorDeserializeCpuTime => 3676 (4 s)\n",
      "resultSerializationTime => 256 (0.3 s)\n",
      "jvmGCTime => 2775 (3 s)\n",
      "shuffleFetchWaitTime => 0 (0 ms)\n",
      "shuffleWriteTime => 258 (0.3 s)\n",
      "resultSize => 1437492 (1403.0 KB)\n",
      "diskBytesSpilled => 0 (0 Bytes)\n",
      "memoryBytesSpilled => 0 (0 Bytes)\n",
      "peakExecutionMemory => 69206016\n",
      "recordsRead => 40000528\n",
      "bytesRead => 1381427650 (1317.0 MB)\n",
      "recordsWritten => 0\n",
      "bytesWritten => 0 (0 Bytes)\n",
      "shuffleRecordsRead => 4\n",
      "shuffleTotalBlocksFetched => 4\n",
      "shuffleLocalBlocksFetched => 4\n",
      "shuffleRemoteBlocksFetched => 0\n",
      "shuffleTotalBytesRead => 312 (312 Bytes)\n",
      "shuffleLocalBytesRead => 312 (312 Bytes)\n",
      "shuffleRemoteBytesRead => 0 (0 Bytes)\n",
      "shuffleRemoteBytesReadToDisk => 0 (0 Bytes)\n",
      "shuffleBytesWritten => 312 (312 Bytes)\n",
      "shuffleRecordsWritten => 4\n"
     ]
    }
   ],
   "source": [
    "stagemetrics.print_report()"
   ]
  },
  {
   "cell_type": "code",
   "execution_count": null,
   "id": "790604a8",
   "metadata": {},
   "outputs": [],
   "source": []
  }
 ],
 "metadata": {
  "kernelspec": {
   "display_name": "Python 3",
   "language": "python",
   "name": "python3"
  },
  "language_info": {
   "codemirror_mode": {
    "name": "ipython",
    "version": 3
   },
   "file_extension": ".py",
   "mimetype": "text/x-python",
   "name": "python",
   "nbconvert_exporter": "python",
   "pygments_lexer": "ipython3",
   "version": "3.8.5"
  }
 },
 "nbformat": 4,
 "nbformat_minor": 5
}
