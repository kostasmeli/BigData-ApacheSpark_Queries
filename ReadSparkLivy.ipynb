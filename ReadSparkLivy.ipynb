{
 "cells": [
  {
   "cell_type": "code",
   "execution_count": 1,
   "id": "4e0f364b",
   "metadata": {},
   "outputs": [],
   "source": [
    "import json, pprint, requests, textwrap, time\n",
    "host = 'http://150.140.142.92:8998'"
   ]
  },
  {
   "cell_type": "code",
   "execution_count": 2,
   "id": "bf77f7b4",
   "metadata": {},
   "outputs": [
    {
     "name": "stdout",
     "output_type": "stream",
     "text": [
      "Waiting... active sesssions:  0\n",
      "Good to go!\n"
     ]
    }
   ],
   "source": [
    "#get number of sessions\n",
    "headers = {'Content-Type': 'application/json'}\n",
    "r = requests.get(host+'/sessions', headers=headers)\n",
    "con_var=r.json()['total']\n",
    "print (\"Waiting... active sesssions: \", con_var)\n",
    "while con_var!=0:\n",
    "    r = requests.get(host+'/sessions', headers=headers)\n",
    "    con_var=r.json()['total']\n",
    "    print (\"Waiting... active sesssions: \", con_var)\n",
    "    time.sleep(60)\n",
    "print (\"Good to go!\")"
   ]
  },
  {
   "cell_type": "code",
   "execution_count": 3,
   "id": "fb65eaf2",
   "metadata": {},
   "outputs": [
    {
     "data": {
      "text/plain": [
       "{'id': 172,\n",
       " 'name': 'Melina',\n",
       " 'appId': None,\n",
       " 'owner': None,\n",
       " 'proxyUser': None,\n",
       " 'state': 'starting',\n",
       " 'kind': 'pyspark',\n",
       " 'appInfo': {'driverLogUrl': None, 'sparkUiUrl': None},\n",
       " 'log': ['stdout: ', '\\nstderr: ']}"
      ]
     },
     "execution_count": 3,
     "metadata": {},
     "output_type": "execute_result"
    }
   ],
   "source": [
    "#create new session - DON'T DO THIS IF THERE ARE OTHER ACTIVE SESSIONS!\n",
    "data = {'kind': 'pyspark',\\\n",
    "        'name':'Melina' ,\n",
    "        'conf':{'master':'spark://localhost:7077'}\\\n",
    "       }#, 'heartbeatTimeoutInSecond':240}\n",
    "\n",
    "r = requests.post(host + '/sessions', data=json.dumps(data), headers=headers)\n",
    "r.json()"
   ]
  },
  {
   "cell_type": "code",
   "execution_count": 4,
   "id": "4eb22fcf",
   "metadata": {},
   "outputs": [
    {
     "data": {
      "text/plain": [
       "{'id': 172,\n",
       " 'name': 'Melina',\n",
       " 'appId': None,\n",
       " 'owner': None,\n",
       " 'proxyUser': None,\n",
       " 'state': 'starting',\n",
       " 'kind': 'pyspark',\n",
       " 'appInfo': {'driverLogUrl': None, 'sparkUiUrl': None},\n",
       " 'log': ['21/06/04 23:52:25 INFO BlockManager: Using org.apache.spark.storage.RandomBlockReplicationPolicy for block replication policy',\n",
       "  '21/06/04 23:52:25 INFO StandaloneAppClient$ClientEndpoint: Executor updated: app-20210604235225-0156/0 is now RUNNING',\n",
       "  '21/06/04 23:52:25 INFO StandaloneAppClient$ClientEndpoint: Executor updated: app-20210604235225-0156/1 is now RUNNING',\n",
       "  '21/06/04 23:52:25 INFO BlockManagerMaster: Registering BlockManager BlockManagerId(driver, 150.140.142.92, 33455, None)',\n",
       "  '21/06/04 23:52:25 INFO BlockManagerMasterEndpoint: Registering block manager 150.140.142.92:33455 with 366.3 MB RAM, BlockManagerId(driver, 150.140.142.92, 33455, None)',\n",
       "  '21/06/04 23:52:25 INFO BlockManagerMaster: Registered BlockManager BlockManagerId(driver, 150.140.142.92, 33455, None)',\n",
       "  '21/06/04 23:52:25 INFO BlockManager: Initialized BlockManager: BlockManagerId(driver, 150.140.142.92, 33455, None)',\n",
       "  '21/06/04 23:52:25 INFO StandaloneSchedulerBackend: SchedulerBackend is ready for scheduling beginning after reached minRegisteredResourcesRatio: 0.0',\n",
       "  '21/06/04 23:52:25 INFO SparkEntries: Spark context finished initialization in 778ms',\n",
       "  '21/06/04 23:52:25 INFO SparkEntries: Created Spark session.']}"
      ]
     },
     "execution_count": 4,
     "metadata": {},
     "output_type": "execute_result"
    }
   ],
   "source": [
    "#get session information\n",
    "session_url = host + r.headers['location']\n",
    "r = requests.get(session_url, headers=headers)\n",
    "r.json()"
   ]
  },
  {
   "cell_type": "code",
   "execution_count": 5,
   "id": "2ca016c9",
   "metadata": {},
   "outputs": [
    {
     "name": "stdout",
     "output_type": "stream",
     "text": [
      "Job is idle\n",
      "Good to go!\n"
     ]
    }
   ],
   "source": [
    "#show session state, repeat until idle to proceed with code submission\n",
    "state_url = session_url + '/state'\n",
    "con_var=\"..\"\n",
    "while con_var!=\"idle\":\n",
    "    r = requests.get(state_url, headers=headers)\n",
    "    con_var = r.json()['state']\n",
    "    print(\"Job is %s\" % r.json()['state'])\n",
    "    time.sleep(10)\n",
    "print (\"Good to go!\")"
   ]
  },
  {
   "cell_type": "code",
   "execution_count": 9,
   "id": "58e8ddfe",
   "metadata": {},
   "outputs": [],
   "source": [
    "#send some python statements for execution\n",
    "codefile = open('LivyTestQuery3.py', 'r')\n",
    "code = codefile.read()\n",
    "codefile.close()\n",
    "data = {\n",
    "    'kind': 'pyspark',\n",
    "    'code': textwrap.dedent(code)\n",
    "}\n",
    "\n",
    "statement_url = session_url+'/statements'\n",
    "r = requests.post(statement_url, data=json.dumps(data), headers=headers)"
   ]
  },
  {
   "cell_type": "code",
   "execution_count": 10,
   "id": "84089ce4",
   "metadata": {},
   "outputs": [
    {
     "name": "stdout",
     "output_type": "stream",
     "text": [
      "Job is busy\n",
      "Job is busy\n",
      "Job is busy\n",
      "Job is busy\n",
      "Job is busy\n",
      "Job is busy\n",
      "Job is busy\n",
      "Job is busy\n",
      "Job is busy\n",
      "Job is busy\n",
      "Job is busy\n",
      "Job is busy\n",
      "Job is idle\n",
      "Good to go!\n"
     ]
    }
   ],
   "source": [
    "#show session state, repeat until idle to proceed with result extraction\n",
    "state_url = session_url + '/state'\n",
    "con_var=\"..\"\n",
    "while con_var!=\"idle\":\n",
    "    r = requests.get(state_url, headers=headers)\n",
    "    con_var = r.json()['state']\n",
    "    print(\"Job is %s\" % r.json()['state'])\n",
    "    time.sleep(10)\n",
    "print (\"Good to go!\")"
   ]
  },
  {
   "cell_type": "code",
   "execution_count": 11,
   "id": "dc25e87d",
   "metadata": {},
   "outputs": [
    {
     "name": "stdout",
     "output_type": "stream",
     "text": [
      "http://150.140.142.92:8998/sessions/172/statements\n",
      "Job completed\n",
      "Total Time 122086 ms\n"
     ]
    }
   ],
   "source": [
    "#get stats from the latest statement in the session\n",
    "statements_url = session_url + '/statements'\n",
    "print(statements_url)\n",
    "r = requests.get(statements_url, headers=headers)\n",
    "slist = r.json()\n",
    "last_statement = slist['statements'][slist['total_statements']-1]\n",
    "if last_statement['progress']==1:\n",
    "    print (\"Job completed\")\n",
    "\n",
    "print(\"Total Time %s ms\" % (last_statement['completed'] - last_statement['started']))"
   ]
  },
  {
   "cell_type": "code",
   "execution_count": 38,
   "id": "eae7fdca",
   "metadata": {},
   "outputs": [
    {
     "ename": "TypeError",
     "evalue": "'int' object is not subscriptable",
     "output_type": "error",
     "traceback": [
      "\u001b[0;31m---------------------------------------------------------------------------\u001b[0m",
      "\u001b[0;31mTypeError\u001b[0m                                 Traceback (most recent call last)",
      "\u001b[0;32m<ipython-input-38-d432f26c0602>\u001b[0m in \u001b[0;36m<module>\u001b[0;34m\u001b[0m\n\u001b[1;32m      7\u001b[0m     \u001b[0;31m#pprint.pprint(output['data']['text/plain'])\u001b[0m\u001b[0;34m\u001b[0m\u001b[0;34m\u001b[0m\u001b[0;34m\u001b[0m\u001b[0m\n\u001b[1;32m      8\u001b[0m     \u001b[0mfres\u001b[0m \u001b[0;34m=\u001b[0m \u001b[0mjson\u001b[0m\u001b[0;34m.\u001b[0m\u001b[0mloads\u001b[0m\u001b[0;34m(\u001b[0m\u001b[0mfres\u001b[0m\u001b[0;34m)\u001b[0m\u001b[0;34m\u001b[0m\u001b[0;34m\u001b[0m\u001b[0m\n\u001b[0;32m----> 9\u001b[0;31m \u001b[0mprint\u001b[0m\u001b[0;34m(\u001b[0m\u001b[0mfres\u001b[0m\u001b[0;34m[\u001b[0m\u001b[0;36m0\u001b[0m\u001b[0;34m]\u001b[0m\u001b[0;34m[\u001b[0m\u001b[0;34m'author'\u001b[0m\u001b[0;34m]\u001b[0m\u001b[0;34m)\u001b[0m\u001b[0;34m\u001b[0m\u001b[0;34m\u001b[0m\u001b[0m\n\u001b[0m",
      "\u001b[0;31mTypeError\u001b[0m: 'int' object is not subscriptable"
     ]
    }
   ],
   "source": [
    "#get last statement output\n",
    "output = last_statement['output']\n",
    "if output['status']==\"error\":\n",
    "    pprint.pprint(output['traceback'])\n",
    "else:\n",
    "    fres = output['data']['text/plain'].replace(\"'\",\"\")\n",
    "    #pprint.pprint(output['data']['text/plain'])\n",
    "    fres = json.loads(fres)\n",
    "print(fres[0]['author'])"
   ]
  },
  {
   "cell_type": "code",
   "execution_count": 12,
   "id": "d36685fc",
   "metadata": {},
   "outputs": [
    {
     "name": "stdout",
     "output_type": "stream",
     "text": [
      "{'msg': 'deleted'}\n"
     ]
    }
   ],
   "source": [
    "#close the session\n",
    "r = requests.delete(session_url, headers=headers)\n",
    "pprint.pprint(r.json())\n"
   ]
  },
  {
   "cell_type": "code",
   "execution_count": 72,
   "id": "6f01735b",
   "metadata": {},
   "outputs": [
    {
     "name": "stdout",
     "output_type": "stream",
     "text": [
      "{'msg': \"Session '109' not found.\"}\n"
     ]
    }
   ],
   "source": [
    "#close an arbitrary session\n",
    "sessionid = 109\n",
    "r = requests.delete(\"http://150.140.142.92:8998/sessions/\"+str(sessionid), headers={'Content-Type': 'application/json'})\n",
    "pprint.pprint(r.json())"
   ]
  },
  {
   "cell_type": "code",
   "execution_count": null,
   "id": "a50e6f7b",
   "metadata": {},
   "outputs": [],
   "source": []
  }
 ],
 "metadata": {
  "kernelspec": {
   "display_name": "Python 3",
   "language": "python",
   "name": "python3"
  },
  "language_info": {
   "codemirror_mode": {
    "name": "ipython",
    "version": 3
   },
   "file_extension": ".py",
   "mimetype": "text/x-python",
   "name": "python",
   "nbconvert_exporter": "python",
   "pygments_lexer": "ipython3",
   "version": "3.8.5"
  }
 },
 "nbformat": 4,
 "nbformat_minor": 5
}
