{
 "cells": [
  {
   "cell_type": "code",
   "execution_count": 1,
   "id": "76dfc5cd",
   "metadata": {},
   "outputs": [],
   "source": [
    "from pyspark.sql import SparkSession\n",
    "from pyspark.sql.functions import *\n",
    "from pyspark.sql.window import Window\n",
    "from sparkmeasure import StageMetrics\n",
    "spark=SparkSession \\\n",
    "        .builder \\\n",
    "        .master(\"spark://ubuntu:7077\")\\\n",
    "        .appName(\"Top movies for every category\")\\\n",
    "        .getOrCreate()\n",
    "spark.conf.set(\"spark.sql.repl.eagerEval.enabled\", True)"
   ]
  },
  {
   "cell_type": "code",
   "execution_count": 2,
   "id": "a86f1a53",
   "metadata": {},
   "outputs": [],
   "source": [
    "stagemetrics = StageMetrics(spark)"
   ]
  },
  {
   "cell_type": "code",
   "execution_count": 3,
   "id": "daa81295",
   "metadata": {},
   "outputs": [
    {
     "name": "stdout",
     "output_type": "stream",
     "text": [
      "+-------+--------------------------------+-----------+---------------+\n",
      "|movieId|title                           |Genre      |NumberOfRatings|\n",
      "+-------+--------------------------------+-----------+---------------+\n",
      "|480    |Jurassic Park (1993)            |Action     |59715          |\n",
      "|480    |Jurassic Park (1993)            |Adventure  |59715          |\n",
      "|1      |Toy Story (1995)                |Animation  |49695          |\n",
      "|1      |Toy Story (1995)                |Children   |49695          |\n",
      "|296    |Pulp Fiction (1994)             |Comedy     |67310          |\n",
      "|296    |Pulp Fiction (1994)             |Crime      |67310          |\n",
      "|5669   |Bowling for Columbine (2002)    |Documentary|12280          |\n",
      "|296    |Pulp Fiction (1994)             |Drama      |67310          |\n",
      "|1      |Toy Story (1995)                |Fantasy    |49695          |\n",
      "|1617   |L.A. Confidential (1997)        |Film-Noir  |26836          |\n",
      "|593    |Silence of the Lambs, The (1991)|Horror     |63299          |\n",
      "|150    |Apollo 13 (1995)                |IMAX       |47777          |\n",
      "|588    |Aladdin (1992)                  |Musical    |41842          |\n",
      "|50     |Usual Suspects, The (1995)      |Mystery    |47006          |\n",
      "|356    |Forrest Gump (1994)             |Romance    |66172          |\n",
      "|480    |Jurassic Park (1993)            |Sci-Fi     |59715          |\n",
      "|296    |Pulp Fiction (1994)             |Thriller   |67310          |\n",
      "|356    |Forrest Gump (1994)             |War        |66172          |\n",
      "|590    |Dances with Wolves (1990)       |Western    |44208          |\n",
      "+-------+--------------------------------+-----------+---------------+\n",
      "\n"
     ]
    }
   ],
   "source": [
    "stagemetrics.begin()\n",
    "Movies_Dataframe=(spark.read.format(\"csv\")\n",
    "            .option(\"header\",\"True\")\n",
    "            .option(\"inferSchema\",\"True\")\n",
    "            .load(\"/home/meli/Documents/Kaggle/movie.csv\")\n",
    "      )\n",
    "Ratings_Dataframe=(spark.read.format(\"csv\")\n",
    "            .option(\"header\",\"True\")\n",
    "            .option(\"inferSchema\",\"True\")\n",
    "            .load(\"/home/meli/Documents/Kaggle/rating.csv\")\n",
    "      )\n",
    "#Format the Rating Dataframe\n",
    "Rdf=(Ratings_Dataframe.drop('timestamp')\n",
    "                      .drop('userId')\n",
    "                      .groupBy(\"movieId\").count()\n",
    "                      .withColumnRenamed('count', 'NumberOfRatings')\n",
    "    )\n",
    "#Format the Movie Dataframe\n",
    "Mdf=(Movies_Dataframe.select(\"*\", split(col(\"genres\"), \"\\|\"))\n",
    "                     .drop('genres')\n",
    "                     .withColumnRenamed('split(genres, \\|, -1)','genresar')\n",
    "    )\n",
    "Moviedf=Mdf.select(\"*\",explode(Mdf.genresar).alias(\"Genre\")).drop(\"genresar\").sort(\"Genre\",ascending=False)\n",
    "\n",
    "#Inner-Join on movieId\n",
    "mrdf1=Moviedf.filter(\"Genre !='(no genres listed)'\").join(Rdf,[\"movieId\"]) \n",
    "\n",
    "#Partition by Genre and descending order by NumberOfRatings, \n",
    "windowDept = Window.partitionBy(\"Genre\").orderBy(col(\"NumberOfRatings\").desc())\n",
    "FullQuery=(mrdf1.withColumn(\"row\",row_number().over(windowDept))\n",
    "           .filter(col(\"row\") <= 1)\n",
    "           .drop(\"row\")\n",
    "          )\n",
    "FullQuery.orderBy(\"Genre\",ascending=True).show(truncate=0)\n",
    "stagemetrics.end()"
   ]
  },
  {
   "cell_type": "code",
   "execution_count": 4,
   "id": "f553c872",
   "metadata": {},
   "outputs": [
    {
     "name": "stdout",
     "output_type": "stream",
     "text": [
      "\n",
      "Scheduling mode = FIFO\n",
      "Spark Context default degree of parallelism = 4\n",
      "Aggregated Spark stage metrics:\n",
      "numStages => 8\n",
      "numTasks => 416\n",
      "elapsedTime => 59336 (59 s)\n",
      "stageDuration => 56376 (56 s)\n",
      "executorRunTime => 156342 (2.6 min)\n",
      "executorCpuTime => 63217 (1.1 min)\n",
      "executorDeserializeTime => 15062 (15 s)\n",
      "executorDeserializeCpuTime => 4152 (4 s)\n",
      "resultSerializationTime => 280 (0.3 s)\n",
      "jvmGCTime => 2327 (2 s)\n",
      "shuffleFetchWaitTime => 2 (2 ms)\n",
      "shuffleWriteTime => 6405 (6 s)\n",
      "resultSize => 1600503 (1562.0 KB)\n",
      "diskBytesSpilled => 0 (0 Bytes)\n",
      "memoryBytesSpilled => 0 (0 Bytes)\n",
      "peakExecutionMemory => 2810035200\n",
      "recordsRead => 40055086\n",
      "bytesRead => 1384480482 (1320.0 MB)\n",
      "recordsWritten => 0\n",
      "bytesWritten => 0 (0 Bytes)\n",
      "shuffleRecordsRead => 166945\n",
      "shuffleTotalBlocksFetched => 4875\n",
      "shuffleLocalBlocksFetched => 4875\n",
      "shuffleRemoteBlocksFetched => 0\n",
      "shuffleTotalBytesRead => 4339302 (4.0 MB)\n",
      "shuffleLocalBytesRead => 4339302 (4.0 MB)\n",
      "shuffleRemoteBytesRead => 0 (0 Bytes)\n",
      "shuffleRemoteBytesReadToDisk => 0 (0 Bytes)\n",
      "shuffleBytesWritten => 4339302 (4.0 MB)\n",
      "shuffleRecordsWritten => 166945\n"
     ]
    }
   ],
   "source": [
    "stagemetrics.print_report()"
   ]
  },
  {
   "cell_type": "code",
   "execution_count": null,
   "id": "908529ea",
   "metadata": {},
   "outputs": [],
   "source": []
  }
 ],
 "metadata": {
  "kernelspec": {
   "display_name": "Python 3",
   "language": "python",
   "name": "python3"
  },
  "language_info": {
   "codemirror_mode": {
    "name": "ipython",
    "version": 3
   },
   "file_extension": ".py",
   "mimetype": "text/x-python",
   "name": "python",
   "nbconvert_exporter": "python",
   "pygments_lexer": "ipython3",
   "version": "3.8.5"
  }
 },
 "nbformat": 4,
 "nbformat_minor": 5
}
