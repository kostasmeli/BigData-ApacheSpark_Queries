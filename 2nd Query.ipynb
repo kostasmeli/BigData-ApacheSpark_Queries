{
 "cells": [
  {
   "cell_type": "code",
   "execution_count": 1,
   "id": "56b2ac28",
   "metadata": {},
   "outputs": [],
   "source": [
    "from pyspark.sql import SparkSession\n",
    "from pyspark.sql.functions import *\n",
    "from sparkmeasure import StageMetrics\n",
    "spark=SparkSession \\\n",
    "        .builder \\\n",
    "        .master(\"spark://ubuntu:7077\")\\\n",
    "        .appName(\"A Boring Query\")\\\n",
    "        .getOrCreate()\n",
    "spark.conf.set(\"spark.sql.repl.eagerEval.enabled\", True)"
   ]
  },
  {
   "cell_type": "code",
   "execution_count": 2,
   "id": "f8829ab1",
   "metadata": {},
   "outputs": [],
   "source": [
    "stagemetrics = StageMetrics(spark)"
   ]
  },
  {
   "cell_type": "code",
   "execution_count": null,
   "id": "29c50f89",
   "metadata": {},
   "outputs": [],
   "source": [
    "stagemetrics.begin()\n",
    "Movies_Dataframe=(spark.read.format(\"csv\")\n",
    "            .option(\"header\",\"True\")\n",
    "            .option(\"inferSchema\",\"True\")\n",
    "            .load(\"/home/meli/Documents/Kaggle/movie.csv\")\n",
    "      )\n",
    "Tags_Dataframe=(spark.read.format(\"csv\")\n",
    "            .option(\"header\",\"True\")\n",
    "            .option(\"inferSchema\",\"True\")\n",
    "            .load(\"/home/meli/Documents/Kaggle/tag.csv\")\n",
    "      )"
   ]
  },
  {
   "cell_type": "code",
   "execution_count": null,
   "id": "863423d8",
   "metadata": {},
   "outputs": [],
   "source": [
    "Tags_Dataframe=Tags_Dataframe.withColumn('tag',lower(col('tag'))).withColumn('tag',regexp_replace('tag', '[^\\w\\s]+', ''))\n",
    "stagemetrics.end()"
   ]
  },
  {
   "cell_type": "code",
   "execution_count": null,
   "id": "d4e6346e",
   "metadata": {},
   "outputs": [],
   "source": [
    "Joined_Dataframe=(Tags_Dataframe.join(Movies_Dataframe,Movies_Dataframe.movieId==Tags_Dataframe.movieId)\n",
    "                  .select(Movies_Dataframe.title,Tags_Dataframe.userId,Tags_Dataframe.movieId,Tags_Dataframe.tag)\n",
    "                  .filter(\"tag== 'boring' \")\n",
    "                  .dropDuplicates(subset=['movieId'])\n",
    "                 )\n",
    "Joined_Dataframe.select(\"title\").sort('title').show(truncate=0)"
   ]
  },
  {
   "cell_type": "code",
   "execution_count": null,
   "id": "04531e9d",
   "metadata": {},
   "outputs": [],
   "source": [
    "stagemetrics.print_report()"
   ]
  },
  {
   "cell_type": "code",
   "execution_count": null,
   "id": "591ca4aa",
   "metadata": {},
   "outputs": [],
   "source": []
  }
 ],
 "metadata": {
  "kernelspec": {
   "display_name": "Python 3",
   "language": "python",
   "name": "python3"
  },
  "language_info": {
   "codemirror_mode": {
    "name": "ipython",
    "version": 3
   },
   "file_extension": ".py",
   "mimetype": "text/x-python",
   "name": "python",
   "nbconvert_exporter": "python",
   "pygments_lexer": "ipython3",
   "version": "3.8.5"
  }
 },
 "nbformat": 4,
 "nbformat_minor": 5
}
