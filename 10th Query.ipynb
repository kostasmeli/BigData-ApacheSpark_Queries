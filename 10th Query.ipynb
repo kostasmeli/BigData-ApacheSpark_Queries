{
 "cells": [
  {
   "cell_type": "code",
   "execution_count": 1,
   "id": "c405e34a",
   "metadata": {},
   "outputs": [],
   "source": [
    "\n",
    "from pyspark.sql import SparkSession\n",
    "from pyspark.sql.functions import *\n",
    "from pyspark.sql.window import Window\n",
    "from sparkmeasure import StageMetrics\n",
    "spark=SparkSession \\\n",
    "        .builder \\\n",
    "        .master(\"spark://ubuntu:7077\")\\\n",
    "        .appName(\"Number of Movies per category which are funny and over 3.5 rating\")\\\n",
    "        .getOrCreate()\n",
    "spark.conf.set(\"spark.sql.repl.eagerEval.enabled\", True)"
   ]
  },
  {
   "cell_type": "code",
   "execution_count": 2,
   "id": "391b3d7b",
   "metadata": {},
   "outputs": [],
   "source": [
    "stagemetrics = StageMetrics(spark)"
   ]
  },
  {
   "cell_type": "code",
   "execution_count": 3,
   "id": "538cef11",
   "metadata": {},
   "outputs": [
    {
     "name": "stdout",
     "output_type": "stream",
     "text": [
      "+-----------+--------------+\n",
      "|      Genre|NumberOfMovies|\n",
      "+-----------+--------------+\n",
      "|     Action|           366|\n",
      "|  Adventure|           402|\n",
      "|  Animation|           255|\n",
      "|   Children|           257|\n",
      "|     Comedy|          1336|\n",
      "|      Crime|           231|\n",
      "|Documentary|            20|\n",
      "|      Drama|           487|\n",
      "|    Fantasy|           268|\n",
      "|  Film-Noir|             2|\n",
      "|     Horror|           112|\n",
      "|       IMAX|            69|\n",
      "|    Musical|            88|\n",
      "|    Mystery|            81|\n",
      "|    Romance|           412|\n",
      "|     Sci-Fi|           175|\n",
      "|   Thriller|           205|\n",
      "|        War|            23|\n",
      "|    Western|            41|\n",
      "+-----------+--------------+\n",
      "\n"
     ]
    }
   ],
   "source": [
    "stagemetrics.begin()\n",
    "Movies_Dataframe=(spark.read.format(\"csv\")\n",
    "            .option(\"header\",\"True\")\n",
    "            .option(\"inferSchema\",\"True\")\n",
    "            .load(\"/home/meli/Documents/Kaggle/movie.csv\")\n",
    "      )\n",
    "Ratings_Dataframe=(spark.read.format(\"csv\")\n",
    "            .option(\"header\",\"True\")\n",
    "            .option(\"inferSchema\",\"True\")\n",
    "            .load(\"/home/meli/Documents/Kaggle/rating.csv\")\n",
    "      )\n",
    "Tags_Dataframe=(spark.read.format(\"csv\")\n",
    "            .option(\"header\",\"True\")\n",
    "            .option(\"inferSchema\",\"True\")\n",
    "            .load(\"/home/meli/Documents/Kaggle/tag.csv\")\n",
    "      )\n",
    "#Format Tags(lowercase and remove specialchars)\n",
    "Tags_Dataframe=Tags_Dataframe.withColumn('tag',lower(col('tag'))).withColumn('tag',regexp_replace('tag', '[^\\w\\s]+', ''))\n",
    "#Format the Movie Dataframe\n",
    "Mdf=(Movies_Dataframe.select(\"*\", split(col(\"genres\"), \"\\|\"))\n",
    "                     .drop('genres')\n",
    "                     .withColumnRenamed('split(genres, \\|, -1)','genresar')\n",
    "    )\n",
    "Moviedf=Mdf.select(\"*\",explode(Mdf.genresar).alias(\"Genre\")).drop(\"genresar\").sort(\"Genre\",ascending=False)\n",
    "\n",
    "Ratings_Dataframe=Ratings_Dataframe.filter(\"rating>3.5\").drop('timestamp')\n",
    "Tags_Dataframe=Tags_Dataframe.filter(\"tag='funny'\").drop('timestamp')\n",
    "rtdf=Ratings_Dataframe.join(Tags_Dataframe,['movieId','userId'])\n",
    "rtmdf=rtdf.join(Moviedf,['movieId'])\n",
    "FullQuery=rtmdf.groupBy(\"Genre\").agg(count('movieId').alias(\"NumberOfMovies\"))\n",
    "FullQuery.sort('Genre').show()\n",
    "stagemetrics.end()"
   ]
  },
  {
   "cell_type": "code",
   "execution_count": 4,
   "id": "c43def56",
   "metadata": {},
   "outputs": [
    {
     "name": "stdout",
     "output_type": "stream",
     "text": [
      "\n",
      "Scheduling mode = FIFO\n",
      "Spark Context default degree of parallelism = 4\n",
      "Aggregated Spark stage metrics:\n",
      "numStages => 10\n",
      "numTasks => 225\n",
      "elapsedTime => 57925 (58 s)\n",
      "stageDuration => 57811 (58 s)\n",
      "executorRunTime => 152563 (2.5 min)\n",
      "executorCpuTime => 66347 (1.1 min)\n",
      "executorDeserializeTime => 13049 (13 s)\n",
      "executorDeserializeCpuTime => 3255 (3 s)\n",
      "resultSerializationTime => 494 (0.5 s)\n",
      "jvmGCTime => 1996 (2 s)\n",
      "shuffleFetchWaitTime => 0 (0 ms)\n",
      "shuffleWriteTime => 320 (0.3 s)\n",
      "resultSize => 1511723 (1476.0 KB)\n",
      "diskBytesSpilled => 0 (0 Bytes)\n",
      "memoryBytesSpilled => 0 (0 Bytes)\n",
      "peakExecutionMemory => 211812352\n",
      "recordsRead => 30981363\n",
      "bytesRead => 1428438922 (1362.0 MB)\n",
      "recordsWritten => 0\n",
      "bytesWritten => 0 (0 Bytes)\n",
      "shuffleRecordsRead => 106\n",
      "shuffleTotalBlocksFetched => 106\n",
      "shuffleLocalBlocksFetched => 106\n",
      "shuffleRemoteBlocksFetched => 0\n",
      "shuffleTotalBytesRead => 7668 (7.0 KB)\n",
      "shuffleLocalBytesRead => 7668 (7.0 KB)\n",
      "shuffleRemoteBytesRead => 0 (0 Bytes)\n",
      "shuffleRemoteBytesReadToDisk => 0 (0 Bytes)\n",
      "shuffleBytesWritten => 7668 (7.0 KB)\n",
      "shuffleRecordsWritten => 106\n"
     ]
    }
   ],
   "source": [
    "stagemetrics.print_report()"
   ]
  },
  {
   "cell_type": "code",
   "execution_count": null,
   "id": "9e2d0f53",
   "metadata": {},
   "outputs": [],
   "source": []
  }
 ],
 "metadata": {
  "kernelspec": {
   "display_name": "Python 3",
   "language": "python",
   "name": "python3"
  },
  "language_info": {
   "codemirror_mode": {
    "name": "ipython",
    "version": 3
   },
   "file_extension": ".py",
   "mimetype": "text/x-python",
   "name": "python",
   "nbconvert_exporter": "python",
   "pygments_lexer": "ipython3",
   "version": "3.8.5"
  }
 },
 "nbformat": 4,
 "nbformat_minor": 5
}
