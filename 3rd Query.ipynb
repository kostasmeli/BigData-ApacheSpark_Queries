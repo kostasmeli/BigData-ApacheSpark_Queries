{
 "cells": [
  {
   "cell_type": "code",
   "execution_count": 1,
   "id": "6475a2d2",
   "metadata": {},
   "outputs": [],
   "source": [
    "from pyspark.sql import SparkSession\n",
    "from sparkmeasure import StageMetrics\n",
    "from pyspark.sql.functions import *\n",
    "spark=SparkSession \\\n",
    "        .builder \\\n",
    "        .appName(\"Bollywood over 3 rating\")\\\n",
    "        .master(\"spark://ubuntu:7077\")\\\n",
    "        .getOrCreate()\n",
    "spark.conf.set(\"spark.sql.repl.eagerEval.enabled\", True)"
   ]
  },
  {
   "cell_type": "code",
   "execution_count": 2,
   "id": "7f3340ea",
   "metadata": {},
   "outputs": [],
   "source": [
    "stagemetrics = StageMetrics(spark)"
   ]
  },
  {
   "cell_type": "code",
   "execution_count": 3,
   "id": "1bcdf0fd",
   "metadata": {},
   "outputs": [
    {
     "name": "stdout",
     "output_type": "stream",
     "text": [
      "+------+-------+---------+------+\n",
      "|userId|movieId|      tag|rating|\n",
      "+------+-------+---------+------+\n",
      "| 10573|   6776|bollywood|   4.0|\n",
      "| 19837| 108514|bollywood|   5.0|\n",
      "| 23333|  63082|bollywood|   4.0|\n",
      "| 25004|  63082|bollywood|   5.0|\n",
      "| 31338|   6776|bollywood|   4.5|\n",
      "| 33323|  78408|bollywood|   3.5|\n",
      "| 35170|  91241|bollywood|   4.0|\n",
      "| 40514|   6776|bollywood|   5.0|\n",
      "| 41165|  63082|bollywood|   4.5|\n",
      "| 51539|  63082|bollywood|   4.0|\n",
      "| 54900|  97648|bollywood|   3.5|\n",
      "| 63618|  56167|bollywood|   3.5|\n",
      "| 65908|   6776|bollywood|   4.5|\n",
      "| 70279|   5135|bollywood|   4.5|\n",
      "| 77137|  55098|bollywood|   5.0|\n",
      "| 86883|   5135|bollywood|   4.0|\n",
      "|124139|  74641|bollywood|   3.5|\n",
      "|131829|   6776|bollywood|   4.0|\n",
      "|135155|   5135|bollywood|   4.5|\n",
      "|136015|  63082|bollywood|   4.5|\n",
      "+------+-------+---------+------+\n",
      "only showing top 20 rows\n",
      "\n"
     ]
    }
   ],
   "source": [
    "stagemetrics.begin()\n",
    "Ratings_Dataframe=(spark.read.format(\"csv\")\n",
    "            .option(\"header\",\"True\")\n",
    "            .option(\"inferSchema\",\"True\")\n",
    "            .load(\"/home/meli/Documents/Kaggle/rating.csv\")\n",
    "      )\n",
    "Tags_Dataframe=(spark.read.format(\"csv\")\n",
    "            .option(\"header\",\"True\")\n",
    "            .option(\"inferSchema\",\"True\")\n",
    "            .load(\"/home/meli/Documents/Kaggle/tag.csv\")\n",
    "      )\n",
    "Tags_Dataframe=Tags_Dataframe.withColumn('tag',lower(col('tag'))).withColumn('tag',regexp_replace('tag', '[^\\w\\s]+', ''))\n",
    "Joined_Dataframe=(Tags_Dataframe.filter(Tags_Dataframe.tag=='bollywood') \n",
    "                                .join(Ratings_Dataframe,[(Ratings_Dataframe.userId==Tags_Dataframe.userId)& (Ratings_Dataframe.movieId==Tags_Dataframe.movieId)])\n",
    "                                .where(Ratings_Dataframe.rating>3)\n",
    "                                .dropDuplicates(['userId'])\n",
    "                                .select(Tags_Dataframe.userId,Tags_Dataframe.movieId,Tags_Dataframe.tag,Ratings_Dataframe.rating)\n",
    "                 )\n",
    "Joined_Dataframe.sort(\"userId\").show()\n",
    "stagemetrics.end()"
   ]
  },
  {
   "cell_type": "code",
   "execution_count": 4,
   "id": "7d3e4b86",
   "metadata": {},
   "outputs": [
    {
     "name": "stdout",
     "output_type": "stream",
     "text": [
      "\n",
      "Scheduling mode = FIFO\n",
      "Spark Context default degree of parallelism = 4\n",
      "Aggregated Spark stage metrics:\n",
      "numStages => 8\n",
      "numTasks => 422\n",
      "elapsedTime => 67535 (1.1 min)\n",
      "stageDuration => 68918 (1.1 min)\n",
      "executorRunTime => 203084 (3.4 min)\n",
      "executorCpuTime => 78199 (1.3 min)\n",
      "executorDeserializeTime => 15014 (15 s)\n",
      "executorDeserializeCpuTime => 3676 (4 s)\n",
      "resultSerializationTime => 473 (0.5 s)\n",
      "jvmGCTime => 2912 (3 s)\n",
      "shuffleFetchWaitTime => 9 (9 ms)\n",
      "shuffleWriteTime => 1854 (2 s)\n",
      "resultSize => 1606858 (1569.0 KB)\n",
      "diskBytesSpilled => 0 (0 Bytes)\n",
      "memoryBytesSpilled => 0 (0 Bytes)\n",
      "peakExecutionMemory => 2219835392\n",
      "recordsRead => 33126961\n",
      "bytesRead => 1425386090 (1359.0 MB)\n",
      "recordsWritten => 0\n",
      "bytesWritten => 0 (0 Bytes)\n",
      "shuffleRecordsRead => 6221891\n",
      "shuffleTotalBlocksFetched => 1054\n",
      "shuffleLocalBlocksFetched => 1054\n",
      "shuffleRemoteBlocksFetched => 0\n",
      "shuffleTotalBytesRead => 94023746 (89.0 MB)\n",
      "shuffleLocalBytesRead => 94023746 (89.0 MB)\n",
      "shuffleRemoteBytesRead => 0 (0 Bytes)\n",
      "shuffleRemoteBytesReadToDisk => 0 (0 Bytes)\n",
      "shuffleBytesWritten => 125235372 (119.0 MB)\n",
      "shuffleRecordsWritten => 12195732\n"
     ]
    }
   ],
   "source": [
    "stagemetrics.print_report()"
   ]
  },
  {
   "cell_type": "code",
   "execution_count": null,
   "id": "e9e275b1",
   "metadata": {},
   "outputs": [],
   "source": []
  }
 ],
 "metadata": {
  "kernelspec": {
   "display_name": "Python 3",
   "language": "python",
   "name": "python3"
  },
  "language_info": {
   "codemirror_mode": {
    "name": "ipython",
    "version": 3
   },
   "file_extension": ".py",
   "mimetype": "text/x-python",
   "name": "python",
   "nbconvert_exporter": "python",
   "pygments_lexer": "ipython3",
   "version": "3.8.5"
  }
 },
 "nbformat": 4,
 "nbformat_minor": 5
}
