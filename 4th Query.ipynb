{
 "cells": [
  {
   "cell_type": "code",
   "execution_count": 1,
   "id": "524929e8",
   "metadata": {},
   "outputs": [],
   "source": [
    "from pyspark.sql import SparkSession\n",
    "from pyspark.sql.functions import *\n",
    "from pyspark.sql.window import Window\n",
    "from sparkmeasure import StageMetrics\n",
    "spark=SparkSession \\\n",
    "        .builder \\\n",
    "        .master(\"spark://ubuntu:7077\")\\\n",
    "        .appName(\"Top 10 movies for every year\")\\\n",
    "        .getOrCreate()\n",
    "spark.conf.set(\"spark.sql.repl.eagerEval.enabled\", True)"
   ]
  },
  {
   "cell_type": "code",
   "execution_count": 2,
   "id": "11267140",
   "metadata": {},
   "outputs": [],
   "source": [
    "stagemetrics = StageMetrics(spark)"
   ]
  },
  {
   "cell_type": "code",
   "execution_count": 3,
   "id": "ea954dfb",
   "metadata": {
    "scrolled": true
   },
   "outputs": [
    {
     "name": "stdout",
     "output_type": "stream",
     "text": [
      "+---------+-------+-----------+----------------------------------------------------------------------------+\n",
      "|timestamp|movieId|avg(rating)|title                                                                       |\n",
      "+---------+-------+-----------+----------------------------------------------------------------------------+\n",
      "|2005     |33124  |5.0        |Before the Fall (NaPolA - Elite für den Führer) (2004)                      |\n",
      "|2005     |2538   |5.0        |Dancemaker (1998)                                                           |\n",
      "|2005     |6236   |5.0        |Fear Strikes Out (1957)                                                     |\n",
      "|2005     |787    |5.0        |Gate of Heavenly Peace, The (1995)                                          |\n",
      "|2005     |771    |5.0        |Life Is Rosy (a.k.a. Life Is Beautiful) (Vie est belle, La) (1987)          |\n",
      "|2005     |6309   |5.0        |Married to It (1991)                                                        |\n",
      "|2005     |793    |5.0        |My Life and Times With Antonin Artaud (En compagnie d'Antonin Artaud) (1993)|\n",
      "|2005     |1315   |5.0        |Paris Was a Woman (1995)                                                    |\n",
      "|2005     |5687   |5.0        |Take Care of My Cat (Goyangileul butaghae) (2001)                           |\n",
      "|2005     |4230   |5.0        |Too Much Sleep (1997)                                                       |\n",
      "+---------+-------+-----------+----------------------------------------------------------------------------+\n",
      "\n"
     ]
    }
   ],
   "source": [
    "stagemetrics.begin()\n",
    "Ratings_Dataframe=(spark.read.format(\"csv\")\n",
    "            .option(\"header\",\"True\")\n",
    "            .option(\"inferSchema\",\"True\")\n",
    "            .load(\"/home/meli/Documents/Kaggle/rating.csv\")\n",
    "      )\n",
    "Movies_Dataframe=(spark.read.format(\"csv\")\n",
    "            .option(\"header\",\"True\")\n",
    "            .option(\"inferSchema\",\"True\")\n",
    "            .load(\"/home/meli/Documents/Kaggle/movie.csv\")\n",
    "      )\n",
    "Ratings_Dataframe=Ratings_Dataframe.withColumn(\"timestamp\",date_format(\"timestamp\",\"yyy\"))\n",
    "tdf=(Ratings_Dataframe.groupBy([\"timestamp\",\"movieId\"]).avg(\"rating\")\n",
    "     .join(Movies_Dataframe,Movies_Dataframe.movieId==Ratings_Dataframe.movieId)\n",
    "     .drop(Movies_Dataframe.movieId)\n",
    "     .drop(Movies_Dataframe.genres) \n",
    "     .sort(\"timestamp\")\n",
    "    )\n",
    "windowDept = Window.partitionBy(\"timestamp\").orderBy(col(\"avg(rating)\").desc())\n",
    "FullQuery=(tdf.withColumn(\"row\",row_number().over(windowDept))\n",
    "           .filter(col(\"row\") <= 10)\n",
    "           .drop(\"row\")\n",
    "          )\n",
    "FullQuery.where(\"timestamp==2005\").sort(\"title\").show(truncate=0)\n",
    "stagemetrics.end()"
   ]
  },
  {
   "cell_type": "code",
   "execution_count": 4,
   "id": "2f5e5414",
   "metadata": {},
   "outputs": [
    {
     "name": "stdout",
     "output_type": "stream",
     "text": [
      "\n",
      "Scheduling mode = FIFO\n",
      "Spark Context default degree of parallelism = 4\n",
      "Aggregated Spark stage metrics:\n",
      "numStages => 9\n",
      "numTasks => 418\n",
      "elapsedTime => 74344 (1.2 min)\n",
      "stageDuration => 71553 (1.2 min)\n",
      "executorRunTime => 209588 (3.5 min)\n",
      "executorCpuTime => 87844 (1.5 min)\n",
      "executorDeserializeTime => 17566 (18 s)\n",
      "executorDeserializeCpuTime => 4084 (4 s)\n",
      "resultSerializationTime => 226 (0.2 s)\n",
      "jvmGCTime => 2755 (3 s)\n",
      "shuffleFetchWaitTime => 26 (26 ms)\n",
      "shuffleWriteTime => 1277 (1 s)\n",
      "resultSize => 1270208 (1240.0 KB)\n",
      "diskBytesSpilled => 0 (0 Bytes)\n",
      "memoryBytesSpilled => 0 (0 Bytes)\n",
      "peakExecutionMemory => 2285992000\n",
      "recordsRead => 40055086\n",
      "bytesRead => 1384480482 (1320.0 MB)\n",
      "recordsWritten => 0\n",
      "bytesWritten => 0 (0 Bytes)\n",
      "shuffleRecordsRead => 92597\n",
      "shuffleTotalBlocksFetched => 2600\n",
      "shuffleLocalBlocksFetched => 2600\n",
      "shuffleRemoteBlocksFetched => 0\n",
      "shuffleTotalBytesRead => 1827333 (1784.0 KB)\n",
      "shuffleLocalBytesRead => 1827333 (1784.0 KB)\n",
      "shuffleRemoteBytesRead => 0 (0 Bytes)\n",
      "shuffleRemoteBytesReadToDisk => 0 (0 Bytes)\n",
      "shuffleBytesWritten => 1105731 (1079.0 KB)\n",
      "shuffleRecordsWritten => 50553\n"
     ]
    }
   ],
   "source": [
    "stagemetrics.print_report()"
   ]
  },
  {
   "cell_type": "code",
   "execution_count": null,
   "id": "d457027c",
   "metadata": {},
   "outputs": [],
   "source": []
  }
 ],
 "metadata": {
  "kernelspec": {
   "display_name": "Python 3",
   "language": "python",
   "name": "python3"
  },
  "language_info": {
   "codemirror_mode": {
    "name": "ipython",
    "version": 3
   },
   "file_extension": ".py",
   "mimetype": "text/x-python",
   "name": "python",
   "nbconvert_exporter": "python",
   "pygments_lexer": "ipython3",
   "version": "3.8.5"
  }
 },
 "nbformat": 4,
 "nbformat_minor": 5
}
