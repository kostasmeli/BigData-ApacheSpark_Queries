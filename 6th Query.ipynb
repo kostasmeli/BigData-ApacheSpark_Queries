{
 "cells": [
  {
   "cell_type": "code",
   "execution_count": 1,
   "id": "4ae3c0d7",
   "metadata": {},
   "outputs": [],
   "source": [
    "from pyspark.sql import SparkSession\n",
    "from pyspark.sql.functions import *\n",
    "from pyspark.sql.window import Window\n",
    "from sparkmeasure import StageMetrics\n",
    "spark=SparkSession \\\n",
    "        .builder \\\n",
    "        .master(\"spark://ubuntu:7077\")\\\n",
    "        .appName(\"Number of Rating for every movie\")\\\n",
    "        .getOrCreate()\n",
    "spark.conf.set(\"spark.sql.repl.eagerEval.enabled\", True)"
   ]
  },
  {
   "cell_type": "code",
   "execution_count": 2,
   "id": "450e8758",
   "metadata": {},
   "outputs": [],
   "source": [
    "stagemetrics = StageMetrics(spark)"
   ]
  },
  {
   "cell_type": "code",
   "execution_count": 3,
   "id": "7ee4cf80",
   "metadata": {},
   "outputs": [
    {
     "name": "stdout",
     "output_type": "stream",
     "text": [
      "+---------------+--------------------------------+\n",
      "|NumberOfRatings|title                           |\n",
      "+---------------+--------------------------------+\n",
      "|67310          |Pulp Fiction (1994)             |\n",
      "|66172          |Forrest Gump (1994)             |\n",
      "|63366          |Shawshank Redemption, The (1994)|\n",
      "|63299          |Silence of the Lambs, The (1991)|\n",
      "|59715          |Jurassic Park (1993)            |\n",
      "+---------------+--------------------------------+\n",
      "only showing top 5 rows\n",
      "\n"
     ]
    }
   ],
   "source": [
    "stagemetrics.begin()\n",
    "Ratings_Dataframe=(spark.read.format(\"csv\")\n",
    "            .option(\"header\",\"True\")\n",
    "            .option(\"inferSchema\",\"True\")\n",
    "            .load(\"/home/meli/Documents/Kaggle/rating.csv\")\n",
    "      )\n",
    "Movies_Dataframe=(spark.read.format(\"csv\")\n",
    "            .option(\"header\",\"True\")\n",
    "            .option(\"inferSchema\",\"True\")\n",
    "            .load(\"/home/meli/Documents/Kaggle/movie.csv\")\n",
    "      )\n",
    "\n",
    "newdf=(Ratings_Dataframe.groupBy(\"movieId\").count()\n",
    "                        .join(Movies_Dataframe,Movies_Dataframe.movieId==Ratings_Dataframe.movieId)\n",
    "                        .drop(Movies_Dataframe.movieId)\n",
    "                        .drop(Movies_Dataframe.genres)\n",
    "                        .drop(Ratings_Dataframe.movieId)\n",
    "                        .withColumnRenamed('count', 'NumberOfRatings')\n",
    "      )\n",
    "newdf.sort(\"NumberOfRatings\",ascending=False).show(n=5,truncate=0)\n",
    "stagemetrics.end()"
   ]
  },
  {
   "cell_type": "code",
   "execution_count": 4,
   "id": "e4f983fd",
   "metadata": {},
   "outputs": [
    {
     "name": "stdout",
     "output_type": "stream",
     "text": [
      "\n",
      "Scheduling mode = FIFO\n",
      "Spark Context default degree of parallelism = 4\n",
      "Aggregated Spark stage metrics:\n",
      "numStages => 7\n",
      "numTasks => 216\n",
      "elapsedTime => 52747 (53 s)\n",
      "stageDuration => 50433 (50 s)\n",
      "executorRunTime => 147411 (2.5 min)\n",
      "executorCpuTime => 60383 (1.0 min)\n",
      "executorDeserializeTime => 14283 (14 s)\n",
      "executorDeserializeCpuTime => 3087 (3 s)\n",
      "resultSerializationTime => 485 (0.5 s)\n",
      "jvmGCTime => 2178 (2 s)\n",
      "shuffleFetchWaitTime => 41 (41 ms)\n",
      "shuffleWriteTime => 530 (0.5 s)\n",
      "resultSize => 1388194 (1355.0 KB)\n",
      "diskBytesSpilled => 0 (0 Bytes)\n",
      "memoryBytesSpilled => 0 (0 Bytes)\n",
      "peakExecutionMemory => 2285992000\n",
      "recordsRead => 40055086\n",
      "bytesRead => 1384480482 (1320.0 MB)\n",
      "recordsWritten => 0\n",
      "bytesWritten => 0 (0 Bytes)\n",
      "shuffleRecordsRead => 113768\n",
      "shuffleTotalBlocksFetched => 1200\n",
      "shuffleLocalBlocksFetched => 1200\n",
      "shuffleRemoteBlocksFetched => 0\n",
      "shuffleTotalBytesRead => 1466752 (1432.0 KB)\n",
      "shuffleLocalBytesRead => 1466752 (1432.0 KB)\n",
      "shuffleRemoteBytesRead => 0 (0 Bytes)\n",
      "shuffleRemoteBytesReadToDisk => 0 (0 Bytes)\n",
      "shuffleBytesWritten => 1466752 (1432.0 KB)\n",
      "shuffleRecordsWritten => 113768\n"
     ]
    }
   ],
   "source": [
    "stagemetrics.print_report()"
   ]
  },
  {
   "cell_type": "code",
   "execution_count": null,
   "id": "93feaff9",
   "metadata": {},
   "outputs": [],
   "source": []
  }
 ],
 "metadata": {
  "kernelspec": {
   "display_name": "Python 3",
   "language": "python",
   "name": "python3"
  },
  "language_info": {
   "codemirror_mode": {
    "name": "ipython",
    "version": 3
   },
   "file_extension": ".py",
   "mimetype": "text/x-python",
   "name": "python",
   "nbconvert_exporter": "python",
   "pygments_lexer": "ipython3",
   "version": "3.8.5"
  }
 },
 "nbformat": 4,
 "nbformat_minor": 5
}
