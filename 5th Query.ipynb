{
 "cells": [
  {
   "cell_type": "code",
   "execution_count": 1,
   "id": "a45cea65",
   "metadata": {},
   "outputs": [],
   "source": [
    "from pyspark.sql import SparkSession\n",
    "from pyspark.sql.functions import *\n",
    "from sparkmeasure import StageMetrics\n",
    "spark=SparkSession \\\n",
    "        .builder \\\n",
    "        .master(\"spark://ubuntu:7077\")\\\n",
    "        .appName(\"Tags and Title for every movie for 2015\")\\\n",
    "        .getOrCreate()\n",
    "spark.conf.set(\"spark.sql.repl.eagerEval.enabled\", True)"
   ]
  },
  {
   "cell_type": "code",
   "execution_count": 2,
   "id": "74cf0a85",
   "metadata": {},
   "outputs": [],
   "source": [
    "stagemetrics = StageMetrics(spark)"
   ]
  },
  {
   "cell_type": "code",
   "execution_count": 3,
   "id": "26277093",
   "metadata": {},
   "outputs": [
    {
     "name": "stdout",
     "output_type": "stream",
     "text": [
      "+----------------------------------+----------------------------------------------------------------------------------------------------------------------------------------------------------------------------------------------------------------------------------------------------------------------------------------------------------------------------------------------------------------------+\n",
      "|title                             |tags                                                                                                                                                                                                                                                                                                                                                                  |\n",
      "+----------------------------------+----------------------------------------------------------------------------------------------------------------------------------------------------------------------------------------------------------------------------------------------------------------------------------------------------------------------------------------------------------------------+\n",
      "|\"\"Great Performances\"\" Cats (1998)|BD-R                                                                                                                                                                                                                                                                                                                                                                  |\n",
      "|'burbs, The (1989)                |1980's,black comedy,dark comedy,Joe Dante,quirky                                                                                                                                                                                                                                                                                                                      |\n",
      "|(500) Days of Summer (2009)       |annoying,artistic,bad dialogue,boring,depressing,Joseph Gordon-Levitt,overrated,slow,stupid,Zooey Deschanel,Joseph Gordon-Levitt,artistic,no happy ending,nonlinear,overrated,intelligent,nonlinear,artistic,bittersweet,Funny,humor,humorous,intelligent,Joseph Gordon-Levitt,music,nonlinear,quirky,relationships,romance,Zooey Deschanel,bittersweet,quirky,romance|\n",
      "|...tick... tick... tick... (1970) |BD-R                                                                                                                                                                                                                                                                                                                                                                  |\n",
      "|1 (2014)                          |Sukumar                                                                                                                                                                                                                                                                                                                                                               |\n",
      "+----------------------------------+----------------------------------------------------------------------------------------------------------------------------------------------------------------------------------------------------------------------------------------------------------------------------------------------------------------------------------------------------------------------+\n",
      "only showing top 5 rows\n",
      "\n"
     ]
    }
   ],
   "source": [
    "stagemetrics.begin()\n",
    "Tags_Dataframe=(spark.read.format(\"csv\")\n",
    "            .option(\"header\",\"True\")\n",
    "            .option(\"inferSchema\",\"True\")\n",
    "            .load(\"/home/meli/Documents/Kaggle/tag.csv\")\n",
    "      )\n",
    "Movies_Dataframe=(spark.read.format(\"csv\")\n",
    "            .option(\"header\",\"True\")\n",
    "            .option(\"inferSchema\",\"True\")\n",
    "            .load(\"/home/meli/Documents/Kaggle/movie.csv\")\n",
    "      )\n",
    "Tags_Dataframe=Tags_Dataframe.withColumn(\"timestamp\",date_format(\"timestamp\",\"yyy\"))\n",
    "\n",
    "Tagdf=(Tags_Dataframe.where(\"timestamp==2015\")\n",
    "                     .drop('userId')\n",
    "                     .join(Movies_Dataframe,Movies_Dataframe.movieId==Tags_Dataframe.movieId)\n",
    "                     .drop(Movies_Dataframe.movieId)\n",
    "                     .drop(Movies_Dataframe.genres)   \n",
    "      )\n",
    "\n",
    "Tagdf=Tagdf.groupBy(\"title\").agg(collect_list(\"tag\"))\n",
    "\n",
    "Tagdf.withColumn(\"tags\", concat_ws(\",\", \"collect_list(tag)\")) \\\n",
    "     .drop(\"collect_list(tag)\")\\\n",
    "     .sort('title',ascending=True)\\\n",
    "     .show(n=5,truncate=0)\n",
    "stagemetrics.end()"
   ]
  },
  {
   "cell_type": "code",
   "execution_count": 4,
   "id": "7bc7adcc",
   "metadata": {},
   "outputs": [
    {
     "name": "stdout",
     "output_type": "stream",
     "text": [
      "\n",
      "Scheduling mode = FIFO\n",
      "Spark Context default degree of parallelism = 4\n",
      "Aggregated Spark stage metrics:\n",
      "numStages => 7\n",
      "numTasks => 212\n",
      "elapsedTime => 25422 (25 s)\n",
      "stageDuration => 23462 (23 s)\n",
      "executorRunTime => 54191 (54 s)\n",
      "executorCpuTime => 14342 (14 s)\n",
      "executorDeserializeTime => 13305 (13 s)\n",
      "executorDeserializeCpuTime => 3014 (3 s)\n",
      "resultSerializationTime => 261 (0.3 s)\n",
      "jvmGCTime => 1163 (1 s)\n",
      "shuffleFetchWaitTime => 37 (37 ms)\n",
      "shuffleWriteTime => 398 (0.4 s)\n",
      "resultSize => 1451231 (1417.0 KB)\n",
      "diskBytesSpilled => 0 (0 Bytes)\n",
      "memoryBytesSpilled => 0 (0 Bytes)\n",
      "peakExecutionMemory => 11116832\n",
      "recordsRead => 985685\n",
      "bytesRead => 47011272 (44.0 MB)\n",
      "recordsWritten => 0\n",
      "bytesWritten => 0 (0 Bytes)\n",
      "shuffleRecordsRead => 4972\n",
      "shuffleTotalBlocksFetched => 778\n",
      "shuffleLocalBlocksFetched => 778\n",
      "shuffleRemoteBlocksFetched => 0\n",
      "shuffleTotalBytesRead => 632645 (617.0 KB)\n",
      "shuffleLocalBytesRead => 632645 (617.0 KB)\n",
      "shuffleRemoteBytesRead => 0 (0 Bytes)\n",
      "shuffleRemoteBytesReadToDisk => 0 (0 Bytes)\n",
      "shuffleBytesWritten => 632645 (617.0 KB)\n",
      "shuffleRecordsWritten => 4972\n"
     ]
    }
   ],
   "source": [
    "stagemetrics.print_report()"
   ]
  },
  {
   "cell_type": "code",
   "execution_count": null,
   "id": "c5d0abf6",
   "metadata": {},
   "outputs": [],
   "source": []
  }
 ],
 "metadata": {
  "kernelspec": {
   "display_name": "Python 3",
   "language": "python",
   "name": "python3"
  },
  "language_info": {
   "codemirror_mode": {
    "name": "ipython",
    "version": 3
   },
   "file_extension": ".py",
   "mimetype": "text/x-python",
   "name": "python",
   "nbconvert_exporter": "python",
   "pygments_lexer": "ipython3",
   "version": "3.8.5"
  }
 },
 "nbformat": 4,
 "nbformat_minor": 5
}
